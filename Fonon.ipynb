{
 "cells": [
  {
   "cell_type": "code",
   "execution_count": 110,
   "id": "3675f38c",
   "metadata": {
    "ExecuteTime": {
     "end_time": "2022-09-27T23:28:50.461731Z",
     "start_time": "2022-09-27T23:28:50.453745Z"
    }
   },
   "outputs": [],
   "source": [
    "import numpy as np\n",
    "import matplotlib.pyplot as plt\n",
    "\n",
    "n=10\n",
    "C4 = np.zeros(n)\n",
    "C6 = np.zeros(n)\n",
    "rho = np.zeros(n)\n",
    "k = 1\n",
    "h = 1\n",
    "\n"
   ]
  },
  {
   "cell_type": "code",
   "execution_count": 111,
   "id": "09ef0f26",
   "metadata": {
    "ExecuteTime": {
     "end_time": "2022-09-27T23:28:51.624203Z",
     "start_time": "2022-09-27T23:28:51.587582Z"
    }
   },
   "outputs": [
    {
     "data": {
      "text/plain": [
       "array([-0.5       , -0.69098301, -1.19098301, -1.80901699, -2.5       ,\n",
       "       -2.30901699, -0.69098301, -1.19098301, -2.30901699, -1.80901699])"
      ]
     },
     "execution_count": 111,
     "metadata": {},
     "output_type": "execute_result"
    }
   ],
   "source": [
    "def aux_fill():\n",
    "    for ii in range (n):\n",
    "        C4[ii] = 1\n",
    "        C6[ii] = 1\n",
    "        rho[ii]= -2\n",
    "\n",
    "\n",
    "def matrix_A():\n",
    "    A = np.zeros((n,n))\n",
    "    for ii in range (n):\n",
    "        A[ii][ii-1] = (-C4[(ii+1)%n] + 4*C4[ii] + C4[ii-1])/(4*h*h)\n",
    "        A[ii][ii] = -2*C4[ii]/(h*h) - C6[ii]*k*k\n",
    "        A[ii][(ii+1)%n] = (C4[(ii+1)%n] + 4*C4[ii] - C4[ii-1])/(4*h*h)\n",
    "    return A\n",
    "\n",
    "\n",
    "def matrix_B():\n",
    "    B = np.zeros((n,n))\n",
    "    for ii in range (n):\n",
    "        B[ii][ii] = -rho[ii]\n",
    "    return B\n",
    "\n",
    "def matrix_C(BB):\n",
    "    C = np.zeros((n,n))\n",
    "    for ii in range (n):\n",
    "        C[ii][ii] = (BB[ii][ii])**(1/2)\n",
    "    return C\n",
    "\n",
    "def matrix_C1(CC):\n",
    "    C1 = np.zeros((n,n))\n",
    "    for ii in range (n):\n",
    "        C1[ii][ii] = 1/CC[ii][ii]\n",
    "    return C1\n",
    "        \n",
    "\n",
    "\n",
    "aux_fill()\n",
    "A = matrix_A()\n",
    "B = matrix_B()\n",
    "C = matrix_C(B)\n",
    "C1 = matrix_C1(C)\n",
    "P = np.matmul(C1, A)\n",
    "P = np.matmul(P, C1)\n",
    "w2, v = np.linalg.eig (P)\n",
    "w2\n",
    "#A\n",
    "#B\n",
    "#C\n",
    "#C1"
   ]
  }
 ],
 "metadata": {
  "kernelspec": {
   "display_name": "Python 3 (ipykernel)",
   "language": "python",
   "name": "python3"
  },
  "language_info": {
   "codemirror_mode": {
    "name": "ipython",
    "version": 3
   },
   "file_extension": ".py",
   "mimetype": "text/x-python",
   "name": "python",
   "nbconvert_exporter": "python",
   "pygments_lexer": "ipython3",
   "version": "3.10.7"
  }
 },
 "nbformat": 4,
 "nbformat_minor": 5
}
